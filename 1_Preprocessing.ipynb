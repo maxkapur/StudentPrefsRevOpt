{
 "cells": [
  {
   "cell_type": "markdown",
   "metadata": {},
   "source": [
    "# Reverse optimization of school preferability parameters under MNL choice model\n",
    "\n",
    "Max Kapur | <a href=\"https://www.maxkapur.com/\">maxkapur.com</a>\n",
    "\n",
    "As part of my research into admissions markets, I model student preferences using the multinomial logit choice function, which assigns each school a preferability parameter $\\delta_c$. Then, given a set of admitted schools $C^\\#$, students attend school $c$ with probability $$\\frac{\\exp \\delta_c}{\\sum_{d \\in C^\\#} \\exp \\delta_d}$$\n",
    "\n",
    "When all schools use a common ranking over the students and admit students whose score exceeds a certain percentile $p_c$, then the demand for (percentage of students choosing to attend) school $c$ is given by the following expression:\n",
    "\n",
    "$$D_c(p) = \n",
    "\\sum_{d=c}^{|C|} \n",
    "\\underbrace{\\frac{\\exp{\\delta_c}}{ \\sum_{i=1}^d \\exp{\\delta_i}}}_{\\substack{\\text{prob. of choosing  }\\\\ c\\text{ from assortment}}} \n",
    "\\overbrace{\\left(p_{d+1} - p_{d}\\right)}^{\\substack{\\text{prob. of having}\\\\ \\text{assortment }C_{[d]}}} $$\n",
    "\n",
    "Here we assume the schools are ordered by cutoff ($p_1 \\leq \\cdots \\leq p_{|C|}$), and we take $p_{|C|+1} \\equiv 1$. $C_{[d]}$ refers to the admitted school set consisting of the first $d$ schools.\n",
    "\n",
    "The question asked here is, **given the demand for each school and its admissions cutoff, can we figure out the market's underlying preferability parameters?** This is not an easy question, because while schools publish their admissions rates and yield, these cannot be taken as a measure of overall preferability, because not all students apply to every school.\n",
    "\n",
    "To start off with, we need some data to play with; since the assumption that all schools use a common ranking is itself unrealistic, I haven&rsquo;t  fretted too much about the details of how to derive the school cutoffs&mdash;Part 1 is just a proof of concept.\n",
    "\n",
    "## Part 1: Data preprocessing in Python\n",
    "\n",
    "Data source: https://www.kaggle.com/samsonqian/college-admissions"
   ]
  },
  {
   "cell_type": "code",
   "execution_count": 47,
   "metadata": {},
   "outputs": [],
   "source": [
    "import numpy as np\n",
    "import pandas as pd\n",
    "import matplotlib.pyplot as plt"
   ]
  },
  {
   "cell_type": "markdown",
   "metadata": {},
   "source": [
    "Let's make the unrealistic assumption that each school admits every student whose SAT math score exceeds what the school has reported as its 25th percentile SAT math score.\n",
    "\n",
    "That is, we are reinterpreting this column as the school's 0th percentile score and disregarding the others. A more accurate way of doing this would be to run principle component analysis over student data and use the first principle component as the common score. \n",
    "\n",
    "We assume the market is at equilibrium, meaning that schools have tuned their admissions parameters such that the total enrollment at each school matches the school's capacity exactly."
   ]
  },
  {
   "cell_type": "code",
   "execution_count": 4,
   "metadata": {},
   "outputs": [
    {
     "data": {
      "text/html": [
       "<div>\n",
       "<style scoped>\n",
       "    .dataframe tbody tr th:only-of-type {\n",
       "        vertical-align: middle;\n",
       "    }\n",
       "\n",
       "    .dataframe tbody tr th {\n",
       "        vertical-align: top;\n",
       "    }\n",
       "\n",
       "    .dataframe thead th {\n",
       "        text-align: right;\n",
       "    }\n",
       "</style>\n",
       "<table border=\"1\" class=\"dataframe\">\n",
       "  <thead>\n",
       "    <tr style=\"text-align: right;\">\n",
       "      <th></th>\n",
       "      <th>Enrolled total</th>\n",
       "      <th>SAT Math 25th percentile score</th>\n",
       "      <th>name</th>\n",
       "      <th>demand</th>\n",
       "    </tr>\n",
       "  </thead>\n",
       "  <tbody>\n",
       "    <tr>\n",
       "      <th>0</th>\n",
       "      <td>1104.0</td>\n",
       "      <td>350.0</td>\n",
       "      <td>Alabama A &amp; M University</td>\n",
       "      <td>1104</td>\n",
       "    </tr>\n",
       "    <tr>\n",
       "      <th>1</th>\n",
       "      <td>1773.0</td>\n",
       "      <td>520.0</td>\n",
       "      <td>University of Alabama at Birmingham</td>\n",
       "      <td>1773</td>\n",
       "    </tr>\n",
       "    <tr>\n",
       "      <th>3</th>\n",
       "      <td>651.0</td>\n",
       "      <td>510.0</td>\n",
       "      <td>University of Alabama in Huntsville</td>\n",
       "      <td>651</td>\n",
       "    </tr>\n",
       "    <tr>\n",
       "      <th>4</th>\n",
       "      <td>1479.0</td>\n",
       "      <td>370.0</td>\n",
       "      <td>Alabama State University</td>\n",
       "      <td>1479</td>\n",
       "    </tr>\n",
       "    <tr>\n",
       "      <th>5</th>\n",
       "      <td>6454.0</td>\n",
       "      <td>500.0</td>\n",
       "      <td>The University of Alabama</td>\n",
       "      <td>6454</td>\n",
       "    </tr>\n",
       "    <tr>\n",
       "      <th>...</th>\n",
       "      <td>...</td>\n",
       "      <td>...</td>\n",
       "      <td>...</td>\n",
       "      <td>...</td>\n",
       "    </tr>\n",
       "    <tr>\n",
       "      <th>1511</th>\n",
       "      <td>756.0</td>\n",
       "      <td>420.0</td>\n",
       "      <td>California State University-Channel Islands</td>\n",
       "      <td>756</td>\n",
       "    </tr>\n",
       "    <tr>\n",
       "      <th>1516</th>\n",
       "      <td>254.0</td>\n",
       "      <td>470.0</td>\n",
       "      <td>Ave Maria University</td>\n",
       "      <td>254</td>\n",
       "    </tr>\n",
       "    <tr>\n",
       "      <th>1525</th>\n",
       "      <td>562.0</td>\n",
       "      <td>490.0</td>\n",
       "      <td>University of South Florida-St Petersburg</td>\n",
       "      <td>562</td>\n",
       "    </tr>\n",
       "    <tr>\n",
       "      <th>1529</th>\n",
       "      <td>86.0</td>\n",
       "      <td>490.0</td>\n",
       "      <td>University of South Florida-Sarasota-Manatee</td>\n",
       "      <td>86</td>\n",
       "    </tr>\n",
       "    <tr>\n",
       "      <th>1530</th>\n",
       "      <td>127.0</td>\n",
       "      <td>510.0</td>\n",
       "      <td>The Kingâ€™s College</td>\n",
       "      <td>127</td>\n",
       "    </tr>\n",
       "  </tbody>\n",
       "</table>\n",
       "<p>1182 rows × 4 columns</p>\n",
       "</div>"
      ],
      "text/plain": [
       "      Enrolled total  SAT Math 25th percentile score  \\\n",
       "0             1104.0                           350.0   \n",
       "1             1773.0                           520.0   \n",
       "3              651.0                           510.0   \n",
       "4             1479.0                           370.0   \n",
       "5             6454.0                           500.0   \n",
       "...              ...                             ...   \n",
       "1511           756.0                           420.0   \n",
       "1516           254.0                           470.0   \n",
       "1525           562.0                           490.0   \n",
       "1529            86.0                           490.0   \n",
       "1530           127.0                           510.0   \n",
       "\n",
       "                                              name  demand  \n",
       "0                         Alabama A & M University    1104  \n",
       "1              University of Alabama at Birmingham    1773  \n",
       "3              University of Alabama in Huntsville     651  \n",
       "4                         Alabama State University    1479  \n",
       "5                        The University of Alabama    6454  \n",
       "...                                            ...     ...  \n",
       "1511   California State University-Channel Islands     756  \n",
       "1516                          Ave Maria University     254  \n",
       "1525     University of South Florida-St Petersburg     562  \n",
       "1529  University of South Florida-Sarasota-Manatee      86  \n",
       "1530                          The Kingâ€™s College     127  \n",
       "\n",
       "[1182 rows x 4 columns]"
      ]
     },
     "execution_count": 4,
     "metadata": {},
     "output_type": "execute_result"
    }
   ],
   "source": [
    "stats = pd.read_csv(\"admitstats_raw.csv\")[['Name', 'Enrolled total', 'SAT Math 25th percentile score']]\n",
    "stats.dropna(inplace=True)\n",
    "stats['name'] = stats['Name']; del stats['Name']\n",
    "stats['demand'] = stats['Enrolled total'].astype(int)\n",
    "stats"
   ]
  },
  {
   "cell_type": "markdown",
   "metadata": {},
   "source": [
    "Using the table found [here](https://web.archive.org/web/20161128224433/https://collegereadiness.collegeboard.org/pdf/understanding-sat-scores-2016.pdf), convert the cutoff scores to percentiles with respect to the totality of SAT takers. "
   ]
  },
  {
   "cell_type": "code",
   "execution_count": 5,
   "metadata": {},
   "outputs": [],
   "source": [
    "SAT = pd.read_csv(\"SATpercentiles.csv\", sep=\"\\t\")\n",
    "percentile_dict = dict(zip(SAT['Score'], SAT['2016 Percentile']))\n",
    "stats['cutoff'] = stats['SAT Math 25th percentile score'].apply(lambda x: percentile_dict[int(np.round(x, decimals=-1))]/100)\n",
    "del stats['Enrolled total'], stats['SAT Math 25th percentile score']"
   ]
  },
  {
   "cell_type": "code",
   "execution_count": 42,
   "metadata": {},
   "outputs": [
    {
     "data": {
      "text/html": [
       "<div>\n",
       "<style scoped>\n",
       "    .dataframe tbody tr th:only-of-type {\n",
       "        vertical-align: middle;\n",
       "    }\n",
       "\n",
       "    .dataframe tbody tr th {\n",
       "        vertical-align: top;\n",
       "    }\n",
       "\n",
       "    .dataframe thead th {\n",
       "        text-align: right;\n",
       "    }\n",
       "</style>\n",
       "<table border=\"1\" class=\"dataframe\">\n",
       "  <thead>\n",
       "    <tr style=\"text-align: right;\">\n",
       "      <th></th>\n",
       "      <th>name</th>\n",
       "      <th>demand</th>\n",
       "      <th>cutoff</th>\n",
       "    </tr>\n",
       "  </thead>\n",
       "  <tbody>\n",
       "    <tr>\n",
       "      <th>1236</th>\n",
       "      <td>Lane College</td>\n",
       "      <td>405</td>\n",
       "      <td>0.00</td>\n",
       "    </tr>\n",
       "    <tr>\n",
       "      <th>160</th>\n",
       "      <td>Albertus Magnus College</td>\n",
       "      <td>132</td>\n",
       "      <td>0.01</td>\n",
       "    </tr>\n",
       "    <tr>\n",
       "      <th>1394</th>\n",
       "      <td>Virginia Union University</td>\n",
       "      <td>404</td>\n",
       "      <td>0.01</td>\n",
       "    </tr>\n",
       "    <tr>\n",
       "      <th>922</th>\n",
       "      <td>Livingstone College</td>\n",
       "      <td>395</td>\n",
       "      <td>0.01</td>\n",
       "    </tr>\n",
       "    <tr>\n",
       "      <th>663</th>\n",
       "      <td>Rust College</td>\n",
       "      <td>287</td>\n",
       "      <td>0.01</td>\n",
       "    </tr>\n",
       "    <tr>\n",
       "      <th>...</th>\n",
       "      <td>...</td>\n",
       "      <td>...</td>\n",
       "      <td>...</td>\n",
       "    </tr>\n",
       "    <tr>\n",
       "      <th>289</th>\n",
       "      <td>University of Chicago</td>\n",
       "      <td>1426</td>\n",
       "      <td>0.95</td>\n",
       "    </tr>\n",
       "    <tr>\n",
       "      <th>698</th>\n",
       "      <td>Washington University in St Louis</td>\n",
       "      <td>1610</td>\n",
       "      <td>0.95</td>\n",
       "    </tr>\n",
       "    <tr>\n",
       "      <th>100</th>\n",
       "      <td>Harvey Mudd College</td>\n",
       "      <td>217</td>\n",
       "      <td>0.95</td>\n",
       "    </tr>\n",
       "    <tr>\n",
       "      <th>551</th>\n",
       "      <td>Massachusetts Institute of Technology</td>\n",
       "      <td>1115</td>\n",
       "      <td>0.97</td>\n",
       "    </tr>\n",
       "    <tr>\n",
       "      <th>64</th>\n",
       "      <td>California Institute of Technology</td>\n",
       "      <td>249</td>\n",
       "      <td>0.98</td>\n",
       "    </tr>\n",
       "  </tbody>\n",
       "</table>\n",
       "<p>1182 rows × 3 columns</p>\n",
       "</div>"
      ],
      "text/plain": [
       "                                       name  demand  cutoff\n",
       "1236                           Lane College     405    0.00\n",
       "160                 Albertus Magnus College     132    0.01\n",
       "1394              Virginia Union University     404    0.01\n",
       "922                     Livingstone College     395    0.01\n",
       "663                            Rust College     287    0.01\n",
       "...                                     ...     ...     ...\n",
       "289                   University of Chicago    1426    0.95\n",
       "698       Washington University in St Louis    1610    0.95\n",
       "100                     Harvey Mudd College     217    0.95\n",
       "551   Massachusetts Institute of Technology    1115    0.97\n",
       "64       California Institute of Technology     249    0.98\n",
       "\n",
       "[1182 rows x 3 columns]"
      ]
     },
     "execution_count": 42,
     "metadata": {},
     "output_type": "execute_result"
    }
   ],
   "source": [
    "# Sanity check\n",
    "stats_sorted = stats.sort_values('cutoff')\n",
    "stats_sorted"
   ]
  },
  {
   "cell_type": "markdown",
   "metadata": {},
   "source": [
    "Get a sense for the shape of the cutoff distribution. "
   ]
  },
  {
   "cell_type": "code",
   "execution_count": 102,
   "metadata": {},
   "outputs": [
    {
     "data": {
      "text/plain": [
       "<BarContainer object of 1182 artists>"
      ]
     },
     "execution_count": 102,
     "metadata": {},
     "output_type": "execute_result"
    },
    {
     "data": {
      "image/png": "[encoded data removed]",
      "text/plain": [
       "<Figure size 432x288 with 1 Axes>"
      ]
     },
     "metadata": {
      "needs_background": "light"
     },
     "output_type": "display_data"
    }
   ],
   "source": [
    "colspace = np.log(stats_sorted['demand'].to_numpy())\n",
    "colspace -= colspace.min()\n",
    "colspace /= colspace.max()\n",
    "\n",
    "colors = plt.get_cmap('viridis')(colspace)\n",
    "\n",
    "# Cutoffs in order, colored by demand\n",
    "plt.bar(x=range(len(stats_sorted)), height=stats_sorted['cutoff'], width=1,\n",
    "        color=colors)"
   ]
  },
  {
   "cell_type": "code",
   "execution_count": 5,
   "metadata": {},
   "outputs": [],
   "source": [
    "stats.to_csv('admitstats.csv', index=False)"
   ]
  }
 ],
 "metadata": {
  "kernelspec": {
   "display_name": "Python 3",
   "language": "python",
   "name": "python3"
  },
  "language_info": {
   "codemirror_mode": {
    "name": "ipython",
    "version": 3
   },
   "file_extension": ".py",
   "mimetype": "text/x-python",
   "name": "python",
   "nbconvert_exporter": "python",
   "pygments_lexer": "ipython3",
   "version": "3.8.8"
  }
 },
 "nbformat": 4,
 "nbformat_minor": 4
}
